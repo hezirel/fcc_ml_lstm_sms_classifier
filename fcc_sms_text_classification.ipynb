{
  "cells": [
    {
      "cell_type": "code",
      "execution_count": null,
      "metadata": {
        "id": "8RZOuS9LWQvv"
      },
      "outputs": [],
      "source": [
        "# import libraries\n",
        "try:\n",
        "  # %tensorflow_version only exists in Colab.\n",
        "  !pip install tf-nightly\n",
        "except Exception:\n",
        "  pass\n",
        "import tensorflow as tf\n",
        "import pandas as pd\n",
        "from tensorflow import keras\n",
        "!pip install tensorflow-datasets\n",
        "import tensorflow_datasets as tfds\n",
        "import numpy as np\n",
        "import matplotlib.pyplot as plt\n",
        "from keras import Sequential\n",
        "from keras.src.layers import LSTM, Embedding\n",
        "\n",
        "print(tf.__version__)"
      ]
    },
    {
      "cell_type": "code",
      "execution_count": null,
      "metadata": {
        "id": "lMHwYXHXCar3"
      },
      "outputs": [],
      "source": [
        "# get data files\n",
        "!wget https://cdn.freecodecamp.org/project-data/sms/train-data.tsv -P data/\n",
        "!wget https://cdn.freecodecamp.org/project-data/sms/valid-data.tsv -P data/\n",
        "\n",
        "train_file_path = \"./data/train-data.tsv\"\n",
        "test_file_path = \"./data/valid-data.tsv\""
      ]
    },
    {
      "cell_type": "code",
      "execution_count": null,
      "metadata": {
        "id": "g_h508FEClxO"
      },
      "outputs": [],
      "source": [
        "# preprocess\n",
        "EPOCHS = 10\n",
        "BATCH_SIZE = 32\n",
        "\n",
        "\n",
        "def load_data(path: str) -> pd.DataFrame:\n",
        "    \"\"\"Load data from a file and return a DataFrame.\"\"\"\n",
        "    try:\n",
        "        data = pd.read_csv(\n",
        "            path,\n",
        "            sep=\"\\t\",\n",
        "            header=None,\n",
        "            names=[\"spam\", \"sms\"],\n",
        "        )  # .drop_duplicates([\"sms\"])\n",
        "        return data\n",
        "    except Exception as e:\n",
        "        raise e\n",
        "\n",
        "\n",
        "train_data = load_data(train_file_path)\n",
        "test_data = load_data(test_file_path)"
      ]
    },
    {
      "cell_type": "code",
      "execution_count": null,
      "metadata": {
        "id": "zOMKywn4zReN"
      },
      "outputs": [],
      "source": [
        "# Model architecture and normalization of inputs\n",
        "\n",
        "\n",
        "def create_text_vectorization_layer(\n",
        "    train_x: pd.Series,\n",
        ") -> keras.layers.TextVectorization:\n",
        "    vectorizer = keras.layers.TextVectorization(\n",
        "        output_mode=\"int\",\n",
        "        standardize=\"lower_and_strip_punctuation\",\n",
        "    )\n",
        "    vectorizer.adapt(np.array(train_x.values))\n",
        "    return vectorizer\n",
        "\n",
        "vectorizer = create_text_vectorization_layer(train_data[\"sms\"])\n",
        "\n",
        "def create_model(train_x: pd.DataFrame) -> keras.Model:\n",
        "\n",
        "    vocab_size = len(vectorizer.get_vocabulary())\n",
        "    # Reduce embedding dimensions\n",
        "    embedding_dim = min(vocab_size // 4, 100)\n",
        "\n",
        "    model = Sequential(\n",
        "        [\n",
        "            vectorizer,\n",
        "            # Reduced embedding dimension\n",
        "            keras.layers.Embedding(vocab_size, embedding_dim),\n",
        "            # Add BatchNormalization\n",
        "            keras.layers.BatchNormalization(),\n",
        "            # First LSTM layer\n",
        "            keras.layers.LSTM(64, return_sequences=True),\n",
        "            keras.layers.BatchNormalization(),\n",
        "            keras.layers.Dropout(0.2),\n",
        "            # Second LSTM layer\n",
        "            keras.layers.LSTM(32),\n",
        "            keras.layers.BatchNormalization(),\n",
        "            keras.layers.Dropout(0.2),\n",
        "            # Final dense layers\n",
        "            keras.layers.Dense(16, activation=\"relu\"),\n",
        "            keras.layers.Dense(1, activation=\"sigmoid\"),\n",
        "        ]\n",
        "    )\n",
        "\n",
        "    # Add learning rate scheduling\n",
        "    initial_learning_rate = 0.001\n",
        "    decay_steps = 1000\n",
        "    decay_rate = 0.9\n",
        "    learning_rate_schedule = tf.keras.optimizers.schedules.ExponentialDecay(\n",
        "        initial_learning_rate, decay_steps, decay_rate\n",
        "    )\n",
        "\n",
        "    optimizer = tf.keras.optimizers.Adam(learning_rate=learning_rate_schedule)\n",
        "\n",
        "    model.compile(optimizer=optimizer, loss=\"binary_crossentropy\", metrics=[\"accuracy\"])\n",
        "\n",
        "    return model\n",
        "\n",
        "\n",
        "model = create_model(train_data)"
      ]
    },
    {
      "cell_type": "code",
      "source": [
        "# Model training\n",
        "\n",
        "def train_model(model: keras.Model, x: pd.DataFrame, y: pd.Series) -> keras.Model:\n",
        "\n",
        "    assert \"sms\" in x.columns, \"SMS column not found in input data\"\n",
        "    assert len(x) == len(y), \"Features and labels must have same length\"\n",
        "\n",
        "    x_array = np.array(x[\"sms\"].values)\n",
        "    y_array = np.array([1 if label == \"spam\" else 0 for label in y.values])\n",
        "    model.fit(\n",
        "        x_array,\n",
        "        y_array,\n",
        "        epochs=EPOCHS,\n",
        "        batch_size=BATCH_SIZE,\n",
        "        shuffle=True,\n",
        "        validation_split=0.2,\n",
        "    )\n",
        "    return model\n",
        "\n",
        "\n",
        "x = train_data.copy()\n",
        "y = train_data.pop(\"spam\")\n",
        "\n",
        "model = train_model(model, x, y)\n",
        "model.summary()"
      ],
      "metadata": {
        "id": "EDFFxz97poh1"
      },
      "execution_count": null,
      "outputs": []
    },
    {
      "cell_type": "code",
      "execution_count": null,
      "metadata": {
        "id": "J9tD9yACG6M9"
      },
      "outputs": [],
      "source": [
        "# function to predict messages based on model\n",
        "# (should return list containing prediction and label, ex. [0.008318834938108921, 'ham'])\n",
        "def predict_message(pred_text):\n",
        "    pred_array = np.array([pred_text], dtype=object)\n",
        "    prediction = model.predict(pred_array)\n",
        "    return [prediction[0][0], \"spam\" if prediction[0][0] > 0.5 else \"ham\"]\n",
        "\n",
        "pred_text = \"how are you doing today?\"\n",
        "\n",
        "prediction = predict_message(pred_text)\n",
        "print(prediction)"
      ]
    },
    {
      "cell_type": "code",
      "execution_count": null,
      "metadata": {
        "id": "Dxotov85SjsC"
      },
      "outputs": [],
      "source": [
        "# Run this cell to test your function and model. Do not modify contents.\n",
        "def test_predictions():\n",
        "  test_messages = [\"how are you doing today\",\n",
        "                   \"sale today! to stop texts call 98912460324\",\n",
        "                   \"i dont want to go. can we try it a different day? available sat\",\n",
        "                   \"our new mobile video service is live. just install on your phone to start watching.\",\n",
        "                   \"you have won £1000 cash! call to claim your prize.\",\n",
        "                   \"i'll bring it tomorrow. don't forget the milk.\",\n",
        "                   \"wow, is your arm alright. that happened to me one time too\"\n",
        "                  ]\n",
        "\n",
        "  test_answers = [\"ham\", \"spam\", \"ham\", \"spam\", \"spam\", \"ham\", \"ham\"]\n",
        "  passed = True\n",
        "\n",
        "  for msg, ans in zip(test_messages, test_answers):\n",
        "    prediction = predict_message(msg)\n",
        "    if prediction[1] != ans:\n",
        "      passed = False\n",
        "\n",
        "  if passed:\n",
        "    print(\"You passed the challenge. Great job!\")\n",
        "  else:\n",
        "    print(\"You haven't passed yet. Keep trying.\")\n",
        "\n",
        "test_predictions()\n"
      ]
    }
  ],
  "metadata": {
    "colab": {
      "name": "fcc_sms_text_classification.ipynb",
      "private_outputs": true,
      "provenance": [],
      "gpuType": "T4"
    },
    "kernelspec": {
      "display_name": "Python 3",
      "name": "python3"
    },
    "language_info": {},
    "accelerator": "GPU"
  },
  "nbformat": 4,
  "nbformat_minor": 0
}
